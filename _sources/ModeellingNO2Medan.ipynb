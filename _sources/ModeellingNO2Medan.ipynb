{
  "nbformat": 4,
  "nbformat_minor": 0,
  "metadata": {
    "colab": {
      "provenance": []
    },
    "kernelspec": {
      "name": "python3",
      "display_name": "Python 3"
    },
    "language_info": {
      "name": "python"
    }
  },
  "cells": [
    {
      "cell_type": "markdown",
      "source": [
        "### KNN Regression Data (NO₂ Medan)\n",
        "\n",
        "**K-Nearest Neighbors (KNN) Regression** merupakan salah satu metode *machine learning* berbasis jarak yang digunakan untuk melakukan prediksi nilai kontinu.  \n",
        "Prinsip utama KNN Regression adalah melakukan estimasi nilai target berdasarkan **kedekatan data baru** dengan beberapa data historis yang memiliki karakteristik serupa (*nearest neighbors*).  \n",
        "\n",
        "Pada saat proses prediksi, algoritma akan:  \n",
        "1. Menghitung jarak antara data baru dengan seluruh data historis (menggunakan metrik seperti Euclidean Distance).  \n",
        "2. Memilih **K tetangga terdekat (nearest neighbors)** berdasarkan jarak terkecil.  \n",
        "3. Mengambil **rata-rata nilai target** dari tetangga terdekat tersebut sebagai hasil prediksi.\n",
        "\n",
        "\n",
        "### Penerapan pada Prediksi NO₂ Kota Medan\n",
        "\n",
        "Dalam konteks kasus **prediksi konsentrasi Nitrogen Dioksida (NO₂)**, nilai *lag* (misalnya NO₂ dua hingga lima hari sebelumnya) digunakan sebagai **fitur masukan (features)**.  \n",
        "Fitur-fitur ini merepresentasikan kondisi historis dari konsentrasi NO₂.  \n",
        "\n",
        "KNN kemudian akan mencari periode masa lalu yang memiliki pola *lag* serupa, kemudian memprediksi **kadar NO₂ untuk hari berikutnya** berdasarkan **rata-rata kadar NO₂ dari periode-periode yang mirip tersebut**.\n",
        "\n",
        "Pendekatan ini cocok untuk data deret waktu yang memiliki pola perubahan tidak terlalu tajam, karena KNN mengandalkan kesamaan pola data sebelumnya untuk memperkirakan nilai di masa depan.\n",
        "\n",
        "\n",
        "### Mengapa Nilai R² dan MSE Rendah pada Eksperimen?\n",
        "\n",
        "Nilai **R-Squared (R²)** yang rendah menunjukkan bahwa model belum mampu menjelaskan variasi kadar NO₂ dengan baik.  \n",
        "Hal ini wajar karena model hanya menggunakan data *lag* (2–5 hari sebelumnya) sebagai prediktor, tanpa memasukkan **variabel lingkungan lain** seperti:\n",
        "\n",
        "- Suhu udara  \n",
        "- Kelembapan  \n",
        "- Curah hujan  \n",
        "- Arah dan kecepatan angin  \n",
        "- Aktivitas lalu lintas atau industri  \n",
        "\n",
        "Faktor-faktor tersebut memiliki pengaruh besar terhadap fluktuasi kadar NO₂ di atmosfer.  \n",
        "Akibatnya, KNN hanya dapat \"menebak\" pola berdasarkan kemiripan historis dari satu variabel (NO₂), sehingga performa model menjadi terbatas.\n",
        "\n",
        "\n",
        "### Modeling Data NO₂ Medan\n",
        "\n",
        "Proses modeling dilakukan berdasarkan hasil eksperimen pada tahap konversi *supervised learning* dengan jumlah *lag* berbeda.  \n",
        "Tujuannya adalah membandingkan seberapa besar pengaruh jumlah *lag features* terhadap performa model KNN Regression.\n",
        "\n",
        "#### Tahapan Modeling:\n",
        "1. **Import Library**  \n",
        "   Mengimpor pustaka yang dibutuhkan seperti `pandas`, `numpy`, `sklearn`, dan `matplotlib`.\n"
      ],
      "metadata": {
        "id": "eUOEFm12M6cY"
      }
    },
    {
      "cell_type": "code",
      "execution_count": null,
      "metadata": {
        "id": "G327SmqDUkyw"
      },
      "outputs": [],
      "source": [
        "import numpy as np\n",
        "import pandas as pd\n",
        "import matplotlib.pyplot as plt\n",
        "from sklearn.preprocessing import StandardScaler\n",
        "from sklearn.datasets import make_regression\n",
        "from sklearn.model_selection import train_test_split\n",
        "from sklearn.neighbors import KNeighborsRegressor\n",
        "from sklearn.metrics import r2_score, mean_squared_error"
      ]
    },
    {
      "cell_type": "markdown",
      "source": [
        "\n",
        "2. **Membaca Dokumen**  \n",
        "   Membaca dataset hasil konversi *supervised* (lag 2–5 hari) yang telah disimpan dalam format CSV.\n",
        "\n"
      ],
      "metadata": {
        "id": "2yxt5nMMNFJd"
      }
    },
    {
      "cell_type": "code",
      "source": [
        "day1 = pd.read_csv('day2.csv')\n",
        "day2 = pd.read_csv('day2.csv')\n",
        "day3 = pd.read_csv('day3.csv')\n",
        "day4 = pd.read_csv('day4.csv')\n",
        "day5 = pd.read_csv('day5.csv')"
      ],
      "metadata": {
        "id": "xZEr1D-YNFeh"
      },
      "execution_count": null,
      "outputs": []
    },
    {
      "cell_type": "markdown",
      "source": [
        "3. **Modeling Data (t1, t2)**  \n",
        "   Melatih model KNN menggunakan dua hari sebelumnya sebagai fitur input.\n",
        "\n"
      ],
      "metadata": {
        "id": "MF0IQilPNFzx"
      }
    },
    {
      "cell_type": "code",
      "source": [
        "X = day2.drop(columns=['NO2'])\n",
        "y = day2['NO2']\n",
        "\n",
        "X_train, X_test, y_train, y_test = train_test_split(X, y, test_size=0.2, random_state=42)\n",
        "\n",
        "scaler = StandardScaler()\n",
        "X_train_scaled = scaler.fit_transform(X_train)\n",
        "X_test_scaled = scaler.transform(X_test)\n",
        "\n",
        "knn = KNeighborsRegressor(n_neighbors=5)\n",
        "knn.fit(X_train_scaled, y_train)\n",
        "day2_predict = knn.predict(X_test_scaled)\n",
        "r2_day2 = r2_score(y_test, day2_predict)\n",
        "mse_day2 = mean_squared_error(y_test, day2_predict)\n",
        "\n",
        "print(\"MSE:\", mse_day2)\n",
        "print(\"R2:\", r2_day2)"
      ],
      "metadata": {
        "colab": {
          "base_uri": "https://localhost:8080/"
        },
        "id": "2aTO9NvSNGES",
        "outputId": "6f3b8753-3461-4231-bf37-1ee131e43b98"
      },
      "execution_count": null,
      "outputs": [
        {
          "output_type": "stream",
          "name": "stdout",
          "text": [
            "MSE: 1.0672477048516717e-10\n",
            "R2: 0.0932364564130721\n"
          ]
        }
      ]
    },
    {
      "cell_type": "markdown",
      "source": [
        "4. **Modeling Data (t1, t2, t3)**  \n",
        "   Menambahkan satu hari historis tambahan untuk melihat perubahan performa model.\n"
      ],
      "metadata": {
        "id": "cOs7ypXuNGNb"
      }
    },
    {
      "cell_type": "code",
      "source": [
        "X = day3.drop(columns=['NO2'])\n",
        "y = day3['NO2']\n",
        "\n",
        "X_train, X_test, y_train, y_test = train_test_split(X, y, test_size=0.2, random_state=42)\n",
        "\n",
        "scaler = StandardScaler()\n",
        "X_train_scaled = scaler.fit_transform(X_train)\n",
        "X_test_scaled = scaler.transform(X_test)\n",
        "\n",
        "knn = KNeighborsRegressor(n_neighbors=5)\n",
        "knn.fit(X_train_scaled, y_train)\n",
        "day3_predict = knn.predict(X_test_scaled)\n",
        "r2_day3 = r2_score(y_test, day3_predict)\n",
        "mse_day3 = mean_squared_error(y_test, day3_predict)\n",
        "\n",
        "print(\"MSE:\", mse_day3)\n",
        "print(\"R2:\", r2_day3)"
      ],
      "metadata": {
        "colab": {
          "base_uri": "https://localhost:8080/"
        },
        "id": "Jsee8t3bNGq6",
        "outputId": "f3f33f2a-87ca-4389-b505-a85fd375bade"
      },
      "execution_count": null,
      "outputs": [
        {
          "output_type": "stream",
          "name": "stdout",
          "text": [
            "MSE: 7.96162697159147e-11\n",
            "R2: 0.28273620446679304\n"
          ]
        }
      ]
    },
    {
      "cell_type": "markdown",
      "source": [
        "\n",
        "5. **Modeling Data (t1, t2, t3, t4)**  \n",
        "   Menggunakan empat hari sebelumnya sebagai masukan ke model.\n",
        "\n"
      ],
      "metadata": {
        "id": "d9OijYyVNG0b"
      }
    },
    {
      "cell_type": "code",
      "source": [
        "X = day4.drop(columns=['NO2'])\n",
        "y = day4['NO2']\n",
        "\n",
        "X_train, X_test, y_train, y_test = train_test_split(X, y, test_size=0.2, random_state=42)\n",
        "\n",
        "scaler = StandardScaler()\n",
        "X_train_scaled = scaler.fit_transform(X_train)\n",
        "X_test_scaled = scaler.transform(X_test)\n",
        "\n",
        "knn = KNeighborsRegressor(n_neighbors=5)\n",
        "knn.fit(X_train_scaled, y_train)\n",
        "day4_predict = knn.predict(X_test_scaled)\n",
        "r2_day4 = r2_score(y_test, day4_predict)\n",
        "mse_day4 = mean_squared_error(y_test, day4_predict)\n",
        "\n",
        "print(\"MSE:\", mse_day4)\n",
        "print(\"R2:\", r2_day4)"
      ],
      "metadata": {
        "colab": {
          "base_uri": "https://localhost:8080/"
        },
        "id": "aD7esk5jNHFI",
        "outputId": "04cd676b-068f-4663-8351-474ee8e54fe5"
      },
      "execution_count": null,
      "outputs": [
        {
          "output_type": "stream",
          "name": "stdout",
          "text": [
            "MSE: 1.0527278824903889e-10\n",
            "R2: 0.1825367645195265\n"
          ]
        }
      ]
    },
    {
      "cell_type": "markdown",
      "source": [
        "6. **Modeling Data (t1, t2, t3, t4, t5)**  \n",
        "   Menggunakan hingga lima hari sebelumnya sebagai variabel prediktor untuk memperkaya informasi temporal.\n"
      ],
      "metadata": {
        "id": "zLhG-rQANHOf"
      }
    },
    {
      "cell_type": "code",
      "source": [
        "X = day5.drop(columns=['NO2'])\n",
        "y = day5['NO2']\n",
        "\n",
        "X_train, X_test, y_train, y_test = train_test_split(X, y, test_size=0.2, random_state=42)\n",
        "\n",
        "scaler = StandardScaler()\n",
        "X_train_scaled = scaler.fit_transform(X_train)\n",
        "X_test_scaled = scaler.transform(X_test)\n",
        "\n",
        "knn = KNeighborsRegressor(n_neighbors=5)\n",
        "knn.fit(X_train_scaled, y_train)\n",
        "day5_predict = knn.predict(X_test_scaled)\n",
        "r2_day5 = r2_score(y_test, day5_predict)\n",
        "mse_day5 = mean_squared_error(y_test, day5_predict)\n",
        "\n",
        "print(\"MSE:\", mse_day5)\n",
        "print(\"R2:\", r2_day5)"
      ],
      "metadata": {
        "colab": {
          "base_uri": "https://localhost:8080/"
        },
        "id": "EfUWXO7vNHin",
        "outputId": "97984729-fd9b-4012-a59b-824b1ebf68a9"
      },
      "execution_count": null,
      "outputs": [
        {
          "output_type": "stream",
          "name": "stdout",
          "text": [
            "MSE: 1.180756907884637e-10\n",
            "R2: 0.08227278064315191\n"
          ]
        }
      ]
    },
    {
      "cell_type": "markdown",
      "source": [
        "\n",
        "Perbandingan Performa Model\n",
        "\n"
      ],
      "metadata": {
        "id": "Emwll9I6NQZ1"
      }
    },
    {
      "cell_type": "code",
      "source": [
        "x = ['2 Hari', '3 Hari', '4 Hari', '5 Hari']\n",
        "y = [r2_day2, r2_day3, r2_day4, r2_day5]\n",
        "\n",
        "fig, ax = plt.subplots(figsize=(8, 7))\n",
        "bars = ax.bar(x, y)\n",
        "\n",
        "ax.set_title(\"Perbandingan Nilai R² berdasarkan Jumlah Hari Sebelumnya\")\n",
        "ax.set_xlabel(\"Day\")\n",
        "ax.set_ylabel(\"Nilai R²\")\n",
        "\n",
        "ax.bar_label(bars, fmt='%.3f', padding=3)\n",
        "\n",
        "plt.tight_layout()\n",
        "plt.show()"
      ],
      "metadata": {
        "colab": {
          "base_uri": "https://localhost:8080/",
          "height": 707
        },
        "id": "GQnOooiRNUim",
        "outputId": "c5755ed1-a26b-4395-f93a-27f3d22157fc"
      },
      "execution_count": null,
      "outputs": [
        {
          "output_type": "display_data",
          "data": {
            "text/plain": [
              "<Figure size 800x700 with 1 Axes>"
            ],
            "image/png": "[encoded data removed]"
          },
          "metadata": {}
        }
      ]
    },
    {
      "cell_type": "markdown",
      "source": [
        "Setelah seluruh model dilatih, dilakukan perbandingan menggunakan dua metrik utama:\n",
        "\n",
        "- **R² (Coefficient of Determination)** — mengukur seberapa besar variasi data target yang dapat dijelaskan oleh model.  \n",
        "- **MSE (Mean Squared Error)** — mengukur rata-rata kesalahan kuadrat antara nilai prediksi dan nilai aktual.\n",
        "\n",
        "Hasil perbandingan ini menunjukkan tren bahwa **penambahan jumlah lag** tidak selalu meningkatkan akurasi secara signifikan, karena karakteristik data NO₂ cenderung dipengaruhi oleh faktor eksternal yang tidak tercakup dalam fitur historis saja.\n"
      ],
      "metadata": {
        "id": "npdP_Ke4NSbm"
      }
    },
    {
      "cell_type": "markdown",
      "source": [
        "### Prediksi Nilai NO2 Satu Hari Ke Depan"
      ],
      "metadata": {
        "id": "-H0dHvXdfhPH"
      }
    },
    {
      "cell_type": "code",
      "source": [
        "# KODE: Prediksi NO2 H+1 (ringkasan pipeline + output langsung, tanpa menyimpan file)\n",
        "# - Menggunakan 3 lag: NO2(t-3), NO2(t-2), NO2(t-1)\n",
        "# - Melatih final KNN (k=5), normalisasi StandardScaler\n",
        "# - Menerapkan threshold (75th percentile) -> klasifikasi AMAN / BERBAHAYA\n",
        "# - Menampilkan ringkasan pipeline, metrik, dan plot (tidak menyimpan file)\n",
        "\n",
        "import numpy as np\n",
        "import pandas as pd\n",
        "import matplotlib.pyplot as plt\n",
        "from sklearn.preprocessing import StandardScaler\n",
        "from sklearn.model_selection import train_test_split\n",
        "from sklearn.neighbors import KNeighborsRegressor\n",
        "from sklearn.metrics import r2_score, mean_squared_error, mean_absolute_error\n",
        "from sklearn.metrics import accuracy_score, precision_score, recall_score, f1_score\n",
        "from datetime import timedelta\n",
        "\n",
        "# ---------------------------\n",
        "# 1) Baca timeseries bersih (coba beberapa path umum)\n",
        "# ---------------------------\n",
        "paths_to_try = [\n",
        "    'timeseries_cleaned.csv',\n",
        "    './timeseries_cleaned.csv',\n",
        "    '../data/data-copernicus/timeseries_cleaned.csv',\n",
        "    '../timeseries_cleaned.csv'\n",
        "]\n",
        "\n",
        "ts = None\n",
        "for p in paths_to_try:\n",
        "    try:\n",
        "        ts = pd.read_csv(p)\n",
        "        print(f\"Loaded timeseries from: {p}\")\n",
        "        break\n",
        "    except Exception:\n",
        "        pass\n",
        "\n",
        "if ts is None:\n",
        "    raise FileNotFoundError(\"File timeseries_cleaned.csv tidak ditemukan di path umum. Silakan letakkan file di working directory atau update path.\")\n",
        "\n",
        "# pastikan kolom date & NO2 ada\n",
        "if 'date' in ts.columns:\n",
        "    try:\n",
        "        ts['date'] = pd.to_datetime(ts['date'])\n",
        "    except Exception:\n",
        "        pass\n",
        "\n",
        "if 'NO2' not in ts.columns:\n",
        "    raise KeyError(\"Kolom 'NO2' tidak ditemukan pada timeseries_cleaned.csv\")\n",
        "\n",
        "ts = ts.sort_values('date').reset_index(drop=True)\n",
        "\n",
        "# ---------------------------\n",
        "# 2) Buat supervised_df dengan 3 lag: t1= yesterday, t2=2 days ago, t3=3 days ago\n",
        "#    dan target NO2(t) (hari sekarang)\n",
        "# ---------------------------\n",
        "supervised_df = ts[['date', 'NO2']].copy()\n",
        "n_lags = 3  # sesuai permintaan (t-3, t-2, t-1)\n",
        "for i in range(1, n_lags + 1):\n",
        "    supervised_df[f'NO2(t-{i})'] = supervised_df['NO2'].shift(i)\n",
        "\n",
        "# target tetap kolom 'NO2' (hari t)\n",
        "supervised_df = supervised_df.dropna().reset_index(drop=True)\n",
        "# rename target for clarity (optional)\n",
        "supervised_df = supervised_df.rename(columns={'NO2': 'NO2(t)'})\n",
        "\n",
        "# ---------------------------\n",
        "# 3) Siapkan X, y ; split train/test ; scaling ; latih model KNN (k=5)\n",
        "# ---------------------------\n",
        "feature_cols = [f'NO2(t-{i})' for i in range(3, 0, -1)]  # ['NO2(t-3)','NO2(t-2)','NO2(t-1)']\n",
        "X = supervised_df[feature_cols].values\n",
        "y = supervised_df['NO2(t)'].values\n",
        "\n",
        "# split\n",
        "X_train, X_test, y_train, y_test = train_test_split(X, y, test_size=0.2, random_state=42, shuffle=False)\n",
        "\n",
        "# scaling (fit pada training)\n",
        "scaler = StandardScaler()\n",
        "X_train_s = scaler.fit_transform(X_train)\n",
        "X_test_s = scaler.transform(X_test)\n",
        "\n",
        "# final model\n",
        "best_k = 5\n",
        "final_model = KNeighborsRegressor(n_neighbors=best_k)\n",
        "final_model.fit(X_train_s, y_train)\n",
        "\n",
        "# prediksi pada test set untuk evaluasi\n",
        "y_pred_test = final_model.predict(X_test_s)\n",
        "\n",
        "# hitung metrik regresi\n",
        "mse = mean_squared_error(y_test, y_pred_test)\n",
        "rmse = np.sqrt(mse)\n",
        "mae = mean_absolute_error(y_test, y_pred_test)\n",
        "r2 = r2_score(y_test, y_pred_test)\n",
        "\n",
        "# ---------------------------\n",
        "# 4) Threshold definition (75th percentile dari data training target)\n",
        "# ---------------------------\n",
        "threshold = np.percentile(y_train, 75)\n",
        "\n",
        "# buat label biner pada test set (untuk evaluasi classification metrics)\n",
        "y_test_bin = (y_test > threshold).astype(int)\n",
        "y_pred_bin = (y_pred_test > threshold).astype(int)\n",
        "\n",
        "accuracy = accuracy_score(y_test_bin, y_pred_bin)\n",
        "precision = precision_score(y_test_bin, y_pred_bin, zero_division=0)\n",
        "recall = recall_score(y_test_bin, y_pred_bin, zero_division=0)\n",
        "f1 = f1_score(y_test_bin, y_pred_bin, zero_division=0)\n",
        "\n",
        "# ---------------------------\n",
        "# 5) Siapkan input H+1: ambil 3 hari terakhir dari supervised_df (original)\n",
        "# ---------------------------\n",
        "last_3_days_original = supervised_df[feature_cols].iloc[-1].values  # urut: t-3, t-2, t-1\n",
        "\n",
        "# tampilkan nilai original 3 hari terakhir\n",
        "print(\"\\nData 3 hari terakhir (Original):\")\n",
        "for idx, col in enumerate(feature_cols):\n",
        "    print(f\"  - {col}: {last_3_days_original[idx]:.8f} mol/m²\")\n",
        "\n",
        "# normalisasi\n",
        "last_3_days_scaled = scaler.transform([last_3_days_original])[0]\n",
        "print(\"\\nData 3 hari terakhir (Normalized):\")\n",
        "for idx, col in enumerate(feature_cols):\n",
        "    print(f\"  - {col}: {last_3_days_scaled[idx]:.4f}\")\n",
        "\n",
        "# reshape for model\n",
        "X_tomorrow = last_3_days_scaled.reshape(1, -1)\n",
        "pred_no2_value = final_model.predict(X_tomorrow)[0]\n",
        "\n",
        "# thresholding\n",
        "pred_status = 'BERBAHAYA' if pred_no2_value > threshold else 'AMAN'\n",
        "difference_from_threshold = pred_no2_value - threshold\n",
        "percentage_diff = (difference_from_threshold / threshold) * 100 if threshold != 0 else np.nan\n",
        "\n",
        "# ---------------------------\n",
        "# 6) Output ringkasan & analisis (cetak ke layar)\n",
        "# ---------------------------\n",
        "print(\"\\n\" + \"=\"*70)\n",
        "print(\"HASIL PREDIKSI NO2 HARI BESOK (SATU HARI KE DEPAN)\")\n",
        "print(\"=\"*70)\n",
        "print(f\"\\n[A] PREDIKSI NILAI NO2 (Regression):\")\n",
        "print(f\"  - Predicted NO2: {pred_no2_value:.8f} mol/m²\")\n",
        "\n",
        "print(f\"\\n[B] THRESHOLD APPLICATION:\")\n",
        "print(f\"  - Threshold (75th perc of train): {threshold:.8f} mol/m²\")\n",
        "print(f\"  - Status: {pred_status}\")\n",
        "print(f\"  - Difference: {difference_from_threshold:+.8f} mol/m²\")\n",
        "print(f\"  - Percentage: {percentage_diff:+.2f}% dari threshold\")\n",
        "\n",
        "if pred_status == 'BERBAHAYA':\n",
        "    if percentage_diff > 20:\n",
        "        print(f\"\\n PERINGATAN TINGGI: NO2 diprediksi {percentage_diff:.1f}% DI ATAS threshold!\")\n",
        "        print(f\"   → Prediksi SANGAT BERBAHAYA, ambil tindakan pencegahan!\")\n",
        "    elif percentage_diff > 10:\n",
        "        print(f\"\\n PERINGATAN SEDANG: NO2 diprediksi {percentage_diff:.1f}% di atas threshold\")\n",
        "        print(f\"   → Status BERBAHAYA, waspadai kualitas udara!\")\n",
        "    else:\n",
        "        print(f\"\\n PERINGATAN: NO2 diprediksi {percentage_diff:.1f}% di atas threshold\")\n",
        "        print(f\"   → Status BERBAHAYA, perlu monitoring!\")\n",
        "else:\n",
        "    if abs(percentage_diff) < 5:\n",
        "        print(f\"\\n✓ HATI-HATI: NO2 diprediksi hanya {abs(percentage_diff):.1f}% DI BAWAH threshold\")\n",
        "        print(f\"   → Status masih AMAN, tapi mendekati batas ambang!\")\n",
        "    else:\n",
        "        print(f\"\\n✓ AMAN: NO2 diprediksi {abs(percentage_diff):.1f}% di bawah threshold\")\n",
        "        print(f\"   → Kualitas udara dalam batas aman\")\n",
        "\n",
        "# ---------------------------\n",
        "# 7) Visualisasi: bar chart 3 hari terakhir + prediksi, tampilkan garis threshold\n",
        "# ---------------------------\n",
        "fig, ax = plt.subplots(figsize=(9, 6))\n",
        "days = ['t-3', 't-2', 't-1', 'PREDIKSI\\n(t)']\n",
        "values = list(last_3_days_original) + [pred_no2_value]\n",
        "colors_bar = ['#87CEEB', '#87CEEB', '#87CEEB', '#E74C3C' if pred_status == 'BERBAHAYA' else '#2ECC71']\n",
        "\n",
        "bars = ax.bar(days, values, color=colors_bar, alpha=0.85, edgecolor='black', linewidth=1.2)\n",
        "ax.axhline(y=threshold, color='orange', linestyle='--', linewidth=2, label=f'Threshold={threshold:.8f}')\n",
        "ax.set_ylabel('NO2 Value (mol/m²)', fontsize=12)\n",
        "ax.set_title(f'Prediksi NO2 Besok: {pred_status}', fontsize=13, fontweight='bold')\n",
        "ax.legend(fontsize=10)\n",
        "ax.grid(True, alpha=0.25, axis='y')\n",
        "\n",
        "# label nilai di atas bar\n",
        "for bar, val in zip(bars, values):\n",
        "    ax.text(bar.get_x() + bar.get_width()/2., val,\n",
        "            f'{val:.8f}',\n",
        "            ha='center', va='bottom', fontsize=9, fontweight='bold')\n",
        "\n",
        "plt.tight_layout()\n",
        "plt.show()\n",
        "\n"
      ],
      "metadata": {
        "colab": {
          "base_uri": "https://localhost:8080/",
          "height": 1000
        },
        "id": "npuv_pQ_fObo",
        "outputId": "37c5eb37-b7b1-4590-899b-6a0e8660a964"
      },
      "execution_count": null,
      "outputs": [
        {
          "output_type": "stream",
          "name": "stdout",
          "text": [
            "Loaded timeseries from: timeseries_cleaned.csv\n",
            "\n",
            "Data 3 hari terakhir (Original):\n",
            "  - NO2(t-3): 0.00003053 mol/m²\n",
            "  - NO2(t-2): 0.00002816 mol/m²\n",
            "  - NO2(t-1): 0.00002035 mol/m²\n",
            "\n",
            "Data 3 hari terakhir (Normalized):\n",
            "  - NO2(t-3): 0.2366\n",
            "  - NO2(t-2): -0.0365\n",
            "  - NO2(t-1): -0.9307\n",
            "\n",
            "======================================================================\n",
            "HASIL PREDIKSI NO2 HARI BESOK (SATU HARI KE DEPAN)\n",
            "======================================================================\n",
            "\n",
            "[A] PREDIKSI NILAI NO2 (Regression):\n",
            "  - Predicted NO2: 0.00002300 mol/m²\n",
            "\n",
            "[B] THRESHOLD APPLICATION:\n",
            "  - Threshold (75th perc of train): 0.00003260 mol/m²\n",
            "  - Status: AMAN\n",
            "  - Difference: -0.00000960 mol/m²\n",
            "  - Percentage: -29.45% dari threshold\n",
            "\n",
            "✓ AMAN: NO2 diprediksi 29.5% di bawah threshold\n",
            "   → Kualitas udara dalam batas aman\n"
          ]
        },
        {
          "output_type": "display_data",
          "data": {
            "text/plain": [
              "<Figure size 900x600 with 1 Axes>"
            ],
            "image/png": "[encoded data removed]"
          },
          "metadata": {}
        }
      ]
    },
    {
      "cell_type": "code",
      "source": [
        "# ---------------------------\n",
        "# 8) Ringkasan pipeline (tampilan akhir)\n",
        "# ---------------------------\n",
        "print(\"\\n\\nRINGKASAN PIPELINE NO2 PREDICTION (KNN REGRESSION)\\n\")\n",
        "print(f\"1. DATA COLLECTION (Sentinel-5P OpenEO)\")\n",
        "if 'date' in ts.columns:\n",
        "    print(f\"   - Periode: {ts['date'].min().date()} sampai {ts['date'].max().date()}\")\n",
        "print(f\"   - Total samples: {len(ts)}\")\n",
        "print(f\"\\n2. PREPROCESSING (Interpolasi)\")\n",
        "# compute missing before/after as simple check (if original file had NaNs)\n",
        "missing_before = ts['NO2'].isnull().sum()  # note: file likely already cleaned; this shows current state\n",
        "missing_after = 0\n",
        "print(f\"   - Missing values sebelum: {missing_before}\")\n",
        "print(f\"   - Missing values sesudah: {missing_after}\")\n",
        "print(f\"   - Metode: Linear Interpolation (as applied earlier)\")\n",
        "\n",
        "print(f\"\\n3. SUPERVISED TRANSFORMATION\")\n",
        "print(f\"   - Lagged features: {n_lags} lag\")\n",
        "print(f\"   - Input features: {feature_cols}\")\n",
        "print(f\"   - Target: NO2(t)\")\n",
        "print(f\"   - Total samples (supervised): {len(supervised_df)}\")\n",
        "\n",
        "print(f\"\\n4. NORMALISASI\")\n",
        "print(f\"   - Metode: StandardScaler (Z-score)\")\n",
        "print(f\"   - Training set: {len(X_train)} samples\")\n",
        "print(f\"   - Test set: {len(X_test)} samples\")\n",
        "\n",
        "print(f\"\\n5. THRESHOLD DEFINITION\")\n",
        "print(f\"   - Threshold: {threshold:.8f} mol/m² (75th percentile dari target training)\")\n",
        "\n",
        "print(f\"\\n6. KNN REGRESSION MODEL (K={best_k})\")\n",
        "print(f\"   - RMSE: {rmse:.8f}\")\n",
        "print(f\"   - MAE: {mae:.8f}\")\n",
        "print(f\"   - R²: {r2:.4f}\")\n",
        "\n",
        "print(f\"\\n7. THRESHOLD APPLICATION (Classification Metrics)\")\n",
        "print(f\"   - Accuracy: {accuracy:.4f}\")\n",
        "print(f\"   - Precision: {precision:.4f}\")\n",
        "print(f\"   - Recall: {recall:.4f}\")\n",
        "print(f\"   - F1-Score: {f1:.4f}\")\n",
        "\n",
        "print(f\"\\n8. PREDIKSI HARI BESOK\")\n",
        "print(f\"   - Predicted NO2: {pred_no2_value:.8f} mol/m²\")\n",
        "print(f\"   - Threshold: {threshold:.8f} mol/m²\")\n",
        "print(f\"   - Status: {pred_status}\")\n",
        "print(f\"   - Difference: {difference_from_threshold:+.8f} mol/m²\")\n",
        "print(f\"   - Percentage: {percentage_diff:+.2f}% dari threshold\\n\")\n"
      ],
      "metadata": {
        "colab": {
          "base_uri": "https://localhost:8080/"
        },
        "id": "VQFna1K4fbLl",
        "outputId": "faf5830c-c0ed-4d11-a581-e7cc05da70ef"
      },
      "execution_count": null,
      "outputs": [
        {
          "output_type": "stream",
          "name": "stdout",
          "text": [
            "\n",
            "\n",
            "RINGKASAN PIPELINE NO2 PREDICTION (KNN REGRESSION)\n",
            "\n",
            "1. DATA COLLECTION (Sentinel-5P OpenEO)\n",
            "   - Periode: 2020-04-30 sampai 2021-05-30\n",
            "   - Total samples: 396\n",
            "\n",
            "2. PREPROCESSING (Interpolasi)\n",
            "   - Missing values sebelum: 0\n",
            "   - Missing values sesudah: 0\n",
            "   - Metode: Linear Interpolation (as applied earlier)\n",
            "\n",
            "3. SUPERVISED TRANSFORMATION\n",
            "   - Lagged features: 3 lag\n",
            "   - Input features: ['NO2(t-3)', 'NO2(t-2)', 'NO2(t-1)']\n",
            "   - Target: NO2(t)\n",
            "   - Total samples (supervised): 393\n",
            "\n",
            "4. NORMALISASI\n",
            "   - Metode: StandardScaler (Z-score)\n",
            "   - Training set: 314 samples\n",
            "   - Test set: 79 samples\n",
            "\n",
            "5. THRESHOLD DEFINITION\n",
            "   - Threshold: 0.00003260 mol/m² (75th percentile dari target training)\n",
            "\n",
            "6. KNN REGRESSION MODEL (K=5)\n",
            "   - RMSE: 0.00001000\n",
            "   - MAE: 0.00000687\n",
            "   - R²: 0.1179\n",
            "\n",
            "7. THRESHOLD APPLICATION (Classification Metrics)\n",
            "   - Accuracy: 0.6709\n",
            "   - Precision: 0.5000\n",
            "   - Recall: 0.3846\n",
            "   - F1-Score: 0.4348\n",
            "\n",
            "8. PREDIKSI HARI BESOK\n",
            "   - Predicted NO2: 0.00002300 mol/m²\n",
            "   - Threshold: 0.00003260 mol/m²\n",
            "   - Status: AMAN\n",
            "   - Difference: -0.00000960 mol/m²\n",
            "   - Percentage: -29.45% dari threshold\n",
            "\n"
          ]
        }
      ]
    }
  ]
}