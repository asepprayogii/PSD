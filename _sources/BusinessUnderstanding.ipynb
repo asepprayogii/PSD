{
 "cells": [
  {
   "cell_type": "markdown",
   "id": "f4d4429d",
   "metadata": {},
   "source": [
    "# Bussiness Understanding  \n",
    "\n",
    "## Judul Dataset  \n",
    "\"Iris Flower Dataset\"  https://www.kaggle.com/datasets/arshid/iris-flower-dataset  \n",
    "\n",
    "## Menentukan Tujuan Bisnis  \n",
    "**Tujuan Utama:** Tujuan dari proyek ini adalah untuk memahami karakteristik fisik yang membedakan tiga spesies bunga Iris (Setosa, Versicolor, dan Virginica). Analisis ini bertujuan untuk memberikan dasar bagi sistem identifikasi otomatis atau untuk membantu ahli botani dalam mengklasifikasikan bunga Iris berdasarkan pengukuran kelopak (petal) dan mahkota (sepal).  \n",
    "\n",
    "**Tujuan Teknis:** Secara teknis, proyek ini bertujuan untuk:\n",
    "1. Membangun alur kerja data dari database cloud (MySQL & PostgreSQL di Aiven) ke alat visualisasi (Power BI).\n",
    "2. Melakukan analisis data eksplorasi untuk mengekstrak statistik deskriptif kunci (min, max, rata-rata).\n",
    "3. Memvalidasi keseimbangan data antar kelas melalui visualisasi untuk memastikan setiap spesies terwakili dengan baik.  \n",
    "\n",
    "**Kriteria Sukses:** Proyek ini dianggap berhasil jika dasbor interaktif di Power BI berhasil dibuat, menampilkan semua metrik dan visualisasi yang diperlukan secara akurat, dengan data yang ditarik langsung dari kedua database.  \n",
    "\n",
    "## Membuat Rencana Proyek  \n",
    "Rencana proyek dibagi menjadi tahapan logis sebagai berikut:  \n",
    "1. **Langkah 1:** Membuat dan mengkonfigurasi database MySQL dan PostgreSQL pada platform Aiven.\n",
    "2. **Langkah 2:** Membuat skema tabel iris di kedua database dan mengimpor data dari file CSV menggunakan DBeaver.\n",
    "3. **Langkah 3:** Menghubungkan database ke Power BI agar data bisa divisualisasikan secara interaktif.\n",
    "4. **Langkah 4:** Melakukan eksplorasi data:\n",
    "    - Menghitung nilai minimum, maksimum, dan rata-rata tiap kolom numerik.\n",
    "    - Membuat grafik batang jumlah data tiap kelas (Setosa, Versicolor, Virginica).\n",
    "5. **Langkah 5:** Menyusun laporan insight dari hasil analisis.\n",
    "\n",
    "## Menilai Situasi dan Kondisi  \n",
    "- **Sumber Daya:**\n",
    "    - **Data:** Dataset Iris klasik yang terdiri dari 150 sampel, yang merupakan data bersih dan terstruktur dengan baik.\n",
    "    - **Infrastruktur:** Database MySQL dan PostgreSQL yang dihosting di platform cloud Aiven.\n",
    "    - **Perangkat Lunak:** DBeaver untuk manajemen database dan Power BI untuk analisis serta visualisasi.\n",
    "- **Risiko:** Risiko utama dalam proyek ini adalah masalah konektivitas jaringan antara Power BI dan database cloud di Aiven, seperti timeout dan validasi sertifikat SSL. Risiko ini telah berhasil diidentifikasi dan diatasi selama tahap awal proyek.\n",
    "- **Asumsi:** Proyek ini mengasumsikan bahwa data yang disediakan dalam dataset Iris adalah akurat dan tidak memerlukan pembersihan data yang ekstensif (seperti penanganan nilai yang hilang atau outlier)."
   ]
  }
 ],
 "metadata": {
  "language_info": {
   "name": "python"
  }
 },
 "nbformat": 4,
 "nbformat_minor": 5
}
